{
 "cells": [
  {
   "cell_type": "code",
   "execution_count": null,
   "metadata": {},
   "outputs": [
    {
     "name": "stderr",
     "output_type": "stream",
     "text": [
      "<>:19: SyntaxWarning: invalid escape sequence '\\S'\n",
      "<>:19: SyntaxWarning: invalid escape sequence '\\S'\n",
      "C:\\Users\\bavat\\AppData\\Local\\Temp\\ipykernel_27404\\4199889358.py:19: SyntaxWarning: invalid escape sequence '\\S'\n",
      "  df = pd.read_excel(\"D:\\Sentiment\\yashi_sentiment1.xlsx\")\n"
     ]
    },
    {
     "name": "stdout",
     "output_type": "stream",
     "text": [
      "\n",
      "✅ Best Model Parameters: {'clf__C': 10, 'clf__kernel': 'rbf'}\n",
      "📈 Best Cross-Validation Accuracy: 0.81\n",
      "\n",
      "📊 Classification Report on Test Data:\n",
      "              precision    recall  f1-score   support\n",
      "\n",
      "    Negative       0.85      0.86      0.85        71\n",
      "     Neutral       0.78      0.78      0.78        63\n",
      "    Positive       0.95      0.94      0.95        65\n",
      "\n",
      "    accuracy                           0.86       199\n",
      "   macro avg       0.86      0.86      0.86       199\n",
      "weighted avg       0.86      0.86      0.86       199\n",
      "\n"
     ]
    }
   ],
   "source": [
    "import pandas as pd\n",
    "import numpy as np\n",
    "import string\n",
    "import re\n",
    "\n",
    "from sklearn.model_selection import train_test_split, GridSearchCV\n",
    "from sklearn.feature_extraction.text import TfidfVectorizer\n",
    "from sklearn.pipeline import Pipeline\n",
    "from sklearn.svm import SVC\n",
    "from sklearn.metrics import classification_report\n",
    "\n",
    "df = pd.read_excel(\"D:\\Sentiment\\yashi_sentiment1.xlsx\")\n",
    "\n",
    "def clean_text(text):\n",
    "    text = str(text).lower()  # Ensure text is string\n",
    "    text = re.sub(r\"http\\S+\", \"\", text)\n",
    "    text = re.sub(r\"@\\w+\", \"\", text)\n",
    "    text = re.sub(r\"#\\w+\", \"\", text)\n",
    "    text = re.sub(r\"[^\\w\\s]\", \"\", text)\n",
    "    text = re.sub(r\"\\d+\", \"\", text)\n",
    "    text = text.strip()\n",
    "    return text\n",
    "\n",
    "df[\"Text\"] = df[\"Text\"].apply(clean_text)\n",
    "\n",
    "X = df[\"Text\"]\n",
    "y = df[\"Sentiment\"]\n",
    "\n",
    "X_train, X_test, y_train, y_test = train_test_split(X, y, test_size=0.2, random_state=42)\n",
    "\n",
    "pipeline = Pipeline([\n",
    "    ('tfidf', TfidfVectorizer(stop_words='english')),\n",
    "    ('clf', SVC())\n",
    "])\n",
    "\n",
    "params = {\n",
    "    'clf__C': [0.1, 1, 10],\n",
    "    'clf__kernel': ['linear', 'rbf']\n",
    "}\n",
    "\n",
    "grid = GridSearchCV(pipeline, param_grid=params, cv=3, n_jobs=-1, scoring='accuracy')\n",
    "grid.fit(X_train, y_train)\n",
    "\n",
    "best_model = grid.best_estimator_\n",
    "\n",
    "print(\"\\n Best Model Parameters:\", grid.best_params_)\n",
    "print(f\" Best Cross-Validation Accuracy: {grid.best_score_:.2f}\")\n",
    "\n",
    "y_pred = best_model.predict(X_test)\n",
    "print(\"\\n Classification Report on Test Data:\")\n",
    "print(classification_report(y_test, y_pred))\n",
    "\n",
    "def predict_from_file(file_path):\n",
    "    with open(file_path, 'r', encoding='utf-8') as f:\n",
    "        text = f.read()\n",
    "    cleaned = clean_text(text)\n",
    "    prediction = best_model.predict([cleaned])[0]\n",
    "    print(f\"\\n The sentiment of the text in '{file_path}' is: {prediction}\")\n"
   ]
  },
  {
   "cell_type": "code",
   "execution_count": 133,
   "metadata": {},
   "outputs": [
    {
     "name": "stdout",
     "output_type": "stream",
     "text": [
      "\n",
      "📁 The sentiment of the text in 'D:/Sentiment/txxt.txt' is: Positive\n"
     ]
    }
   ],
   "source": [
    "y = predict_from_file(\"D:/Sentiment/txxt.txt\")\n",
    "y"
   ]
  },
  {
   "cell_type": "code",
   "execution_count": 134,
   "metadata": {},
   "outputs": [
    {
     "data": {
      "text/plain": [
       "['best_svm_model.pkl']"
      ]
     },
     "execution_count": 134,
     "metadata": {},
     "output_type": "execute_result"
    }
   ],
   "source": [
    "import joblib\n",
    "joblib.dump(best_model, \"best_svm_model.pkl\")"
   ]
  }
 ],
 "metadata": {
  "kernelspec": {
   "display_name": "myenv",
   "language": "python",
   "name": "python3"
  },
  "language_info": {
   "codemirror_mode": {
    "name": "ipython",
    "version": 3
   },
   "file_extension": ".py",
   "mimetype": "text/x-python",
   "name": "python",
   "nbconvert_exporter": "python",
   "pygments_lexer": "ipython3",
   "version": "3.13.2"
  }
 },
 "nbformat": 4,
 "nbformat_minor": 2
}
